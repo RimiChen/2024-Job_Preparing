{
 "cells": [
  {
   "cell_type": "code",
   "execution_count": 9,
   "id": "10cffc99-b331-446b-be20-27d1b2d07ad7",
   "metadata": {},
   "outputs": [],
   "source": [
    "#Cracking open the Hugging Gace Transformers Library\n",
    "\n",
    "### import modules\n",
    "from transformers import pipeline, Conversation\n",
    "import gradio as gr"
   ]
  },
  {
   "cell_type": "code",
   "execution_count": 10,
   "id": "ca198690-7e85-4717-809b-34d43dec2351",
   "metadata": {},
   "outputs": [
    {
     "data": {
      "text/plain": [
       "[{'label': 'NEGATIVE', 'score': 0.9997110962867737}]"
      ]
     },
     "execution_count": 10,
     "metadata": {},
     "output_type": "execute_result"
    }
   ],
   "source": [
    "### code\n",
    "#### Sentiment Analysis\n",
    "\n",
    "#defining classifier\n",
    "classifier = pipeline(task=\"sentiment-analysis\", model = \"distilbert-base-uncased-finetuned-sst-2-english\")\n",
    "classifier(\"Hate this.\")\n"
   ]
  },
  {
   "cell_type": "code",
   "execution_count": 11,
   "id": "625165fa-4e9d-4eda-b82e-801cecbe4ce1",
   "metadata": {},
   "outputs": [
    {
     "data": {
      "text/plain": [
       "[{'label': 'POSITIVE', 'score': 0.9998785257339478},\n",
       " {'label': 'POSITIVE', 'score': 0.9680055379867554},\n",
       " {'label': 'NEGATIVE', 'score': 0.9995074272155762},\n",
       " {'label': 'POSITIVE', 'score': 0.9997714161872864}]"
      ]
     },
     "execution_count": 11,
     "metadata": {},
     "output_type": "execute_result"
    }
   ],
   "source": [
    "# also can passs in a list to classifier\n",
    "text_list = [\n",
    "    \"This is great\",\\\n",
    "    \"Thanks for nothing\",\\\n",
    "    \"You've got too work on your face\",\\\n",
    "    \"You are beautiful, never change!\"]\n",
    "\n",
    "classifier(text_list)"
   ]
  },
  {
   "cell_type": "code",
   "execution_count": 12,
   "id": "04e0a120-d592-40ad-9e56-5bb9c82b135a",
   "metadata": {},
   "outputs": [
    {
     "data": {
      "text/plain": [
       "[[{'label': 'admiration', 'score': 0.9526104927062988},\n",
       "  {'label': 'approval', 'score': 0.03047208860516548},\n",
       "  {'label': 'neutral', 'score': 0.015236238949000835},\n",
       "  {'label': 'excitement', 'score': 0.00606377562507987},\n",
       "  {'label': 'gratitude', 'score': 0.005296191666275263},\n",
       "  {'label': 'joy', 'score': 0.004475215449929237},\n",
       "  {'label': 'curiosity', 'score': 0.004322336055338383},\n",
       "  {'label': 'realization', 'score': 0.004089601803570986},\n",
       "  {'label': 'optimism', 'score': 0.00407722033560276},\n",
       "  {'label': 'disapproval', 'score': 0.004076561890542507},\n",
       "  {'label': 'annoyance', 'score': 0.0035287411883473396},\n",
       "  {'label': 'surprise', 'score': 0.0029730701353400946},\n",
       "  {'label': 'disappointment', 'score': 0.002734640846028924},\n",
       "  {'label': 'love', 'score': 0.0026945816352963448},\n",
       "  {'label': 'amusement', 'score': 0.0024867451284080744},\n",
       "  {'label': 'confusion', 'score': 0.0023607409093528986},\n",
       "  {'label': 'pride', 'score': 0.002101339166983962},\n",
       "  {'label': 'sadness', 'score': 0.0017730521503835917},\n",
       "  {'label': 'anger', 'score': 0.0017196929547935724},\n",
       "  {'label': 'caring', 'score': 0.0013670094776898623},\n",
       "  {'label': 'desire', 'score': 0.001047872588969767},\n",
       "  {'label': 'disgust', 'score': 0.0009689942235127091},\n",
       "  {'label': 'fear', 'score': 0.0005249780369922519},\n",
       "  {'label': 'relief', 'score': 0.0004862120549660176},\n",
       "  {'label': 'embarrassment', 'score': 0.00034175056498497725},\n",
       "  {'label': 'grief', 'score': 0.0003389196645002812},\n",
       "  {'label': 'remorse', 'score': 0.0002780951326712966},\n",
       "  {'label': 'nervousness', 'score': 0.00020788486290257424}]]"
      ]
     },
     "execution_count": 12,
     "metadata": {},
     "output_type": "execute_result"
    }
   ],
   "source": [
    "# change a model to test\n",
    "classifier = pipeline(task=\"text-classification\", model=\"SamLowe/roberta-base-go_emotions\", top_k=None)\n",
    "\n",
    "classifier(text_list[0])"
   ]
  },
  {
   "cell_type": "code",
   "execution_count": 13,
   "id": "19aeaca8-75d3-49b1-bb9c-204cadd2baf9",
   "metadata": {},
   "outputs": [
    {
     "name": "stdout",
     "output_type": "stream",
     "text": [
      "A young adventurer named Eli set forth on a quest to uncover the secrets of the ancient ruins hidden deep within. Armed with only a map and a sense of determination, Eli braved treacherous paths and overcame daunting obstacles along the way.\n"
     ]
    }
   ],
   "source": [
    "#### Summarization\n",
    "summarizer = pipeline(task=\"summarization\", model=\"facebook/bart-large-cnn\")\n",
    "text =\"\"\"\n",
    "In the heart of the enchanted forest, a young adventurer named Eli set forth on a quest to uncover the secrets of the ancient ruins hidden deep within. Armed with only a map and a sense of determination, Eli braved treacherous paths and overcame daunting obstacles along the way.\n",
    "As twilight fell, Eli stumbled upon the entrance to the ruins, its stone archway shrouded in ivy and mystery. With each step, the air grew thick with anticipation, and the sound of his heartbeat echoed in the stillness.\n",
    "Inside, Eli found himself surrounded by the remnants of a forgotten civilization. Crumbling walls adorned with intricate carvings told tales of times long past, while shafts of moonlight illuminated the way forward.\n",
    "Guided by a flickering torch, Eli pressed on, his curiosity driving him deeper into the labyrinthine passages of the ruins. At last, he reached the heart of the ancient chamber, where a shimmering pedestal stood bathed in ethereal light.\n",
    "With trembling hands, Eli approached the pedestal and reached out to touch the glowing artifact resting atop it. In that moment, the ruins came alive with a surge of magic, and Eli knew that his adventure had only just begun.\n",
    "\"\"\"\n",
    "\n",
    "summarized_text = summarizer(text, min_length=5, max_length = 140)[0]['summary_text']\n",
    "print(summarized_text)"
   ]
  },
  {
   "cell_type": "code",
   "execution_count": 14,
   "id": "0c656bfe-e9d9-47f9-83b7-b03efeb1932b",
   "metadata": {},
   "outputs": [
    {
     "data": {
      "text/plain": [
       "[[{'label': 'neutral', 'score': 0.5112467408180237},\n",
       "  {'label': 'approval', 'score': 0.18183928728103638},\n",
       "  {'label': 'admiration', 'score': 0.09703134000301361},\n",
       "  {'label': 'optimism', 'score': 0.09465141594409943},\n",
       "  {'label': 'desire', 'score': 0.03201889991760254},\n",
       "  {'label': 'excitement', 'score': 0.02116227149963379},\n",
       "  {'label': 'realization', 'score': 0.020983034744858742},\n",
       "  {'label': 'caring', 'score': 0.010253692045807838},\n",
       "  {'label': 'pride', 'score': 0.006157048977911472},\n",
       "  {'label': 'curiosity', 'score': 0.005609690677374601},\n",
       "  {'label': 'joy', 'score': 0.004929195623844862},\n",
       "  {'label': 'relief', 'score': 0.004038877319544554},\n",
       "  {'label': 'surprise', 'score': 0.0033545102924108505},\n",
       "  {'label': 'disappointment', 'score': 0.003263744292780757},\n",
       "  {'label': 'gratitude', 'score': 0.0030406510923057795},\n",
       "  {'label': 'fear', 'score': 0.0027691381983458996},\n",
       "  {'label': 'annoyance', 'score': 0.002607261762022972},\n",
       "  {'label': 'disapproval', 'score': 0.00257280794903636},\n",
       "  {'label': 'confusion', 'score': 0.00208975444547832},\n",
       "  {'label': 'sadness', 'score': 0.002053466159850359},\n",
       "  {'label': 'nervousness', 'score': 0.0014338489854708314},\n",
       "  {'label': 'amusement', 'score': 0.0007799460436217487},\n",
       "  {'label': 'grief', 'score': 0.0007387381629087031},\n",
       "  {'label': 'disgust', 'score': 0.0006817803950980306},\n",
       "  {'label': 'remorse', 'score': 0.0005853809416294098},\n",
       "  {'label': 'anger', 'score': 0.0004933601594530046},\n",
       "  {'label': 'love', 'score': 0.00048359131324104965},\n",
       "  {'label': 'embarrassment', 'score': 0.00043865374755114317}]]"
      ]
     },
     "execution_count": 14,
     "metadata": {},
     "output_type": "execute_result"
    }
   ],
   "source": [
    "classifier(summarized_text)"
   ]
  },
  {
   "cell_type": "raw",
   "id": "6e0dc0f6-bb30-4bc4-af56-2bfca9cdebbb",
   "metadata": {},
   "source": [
    "print(\"test\")"
   ]
  },
  {
   "cell_type": "code",
   "execution_count": null,
   "id": "ac48aa68-3f50-44c0-8b6d-9768d92b97be",
   "metadata": {},
   "outputs": [],
   "source": []
  }
 ],
 "metadata": {
  "kernelspec": {
   "display_name": "Python 3 (ipykernel)",
   "language": "python",
   "name": "python3"
  },
  "language_info": {
   "codemirror_mode": {
    "name": "ipython",
    "version": 3
   },
   "file_extension": ".py",
   "mimetype": "text/x-python",
   "name": "python",
   "nbconvert_exporter": "python",
   "pygments_lexer": "ipython3",
   "version": "3.11.5"
  }
 },
 "nbformat": 4,
 "nbformat_minor": 5
}
