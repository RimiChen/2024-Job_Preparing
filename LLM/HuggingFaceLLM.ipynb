{
 "cells": [
  {
   "cell_type": "code",
   "execution_count": 1,
   "id": "10cffc99-b331-446b-be20-27d1b2d07ad7",
   "metadata": {},
   "outputs": [],
   "source": [
    "#Cracking open the Hugging Gace Transformers Library\n",
    "\n",
    "### import modules\n",
    "from transformers import pipeline, Conversation\n",
    "import gradio as gr"
   ]
  },
  {
   "cell_type": "code",
   "execution_count": 2,
   "id": "ca198690-7e85-4717-809b-34d43dec2351",
   "metadata": {},
   "outputs": [
    {
     "name": "stderr",
     "output_type": "stream",
     "text": [
      "C:\\Users\\ricer\\.conda\\envs\\LLM\\Lib\\site-packages\\huggingface_hub\\file_download.py:1132: FutureWarning: `resume_download` is deprecated and will be removed in version 1.0.0. Downloads always resume when possible. If you want to force a new download, use `force_download=True`.\n",
      "  warnings.warn(\n"
     ]
    },
    {
     "data": {
      "application/vnd.jupyter.widget-view+json": {
       "model_id": "b4842e77e6fc45ac963981e2fd5fcad4",
       "version_major": 2,
       "version_minor": 0
      },
      "text/plain": [
       "config.json:   0%|          | 0.00/629 [00:00<?, ?B/s]"
      ]
     },
     "metadata": {},
     "output_type": "display_data"
    },
    {
     "name": "stderr",
     "output_type": "stream",
     "text": [
      "C:\\Users\\ricer\\.conda\\envs\\LLM\\Lib\\site-packages\\huggingface_hub\\file_download.py:157: UserWarning: `huggingface_hub` cache-system uses symlinks by default to efficiently store duplicated files but your machine does not support them in C:\\Users\\ricer\\.cache\\huggingface\\hub\\models--distilbert-base-uncased-finetuned-sst-2-english. Caching files will still work but in a degraded version that might require more space on your disk. This warning can be disabled by setting the `HF_HUB_DISABLE_SYMLINKS_WARNING` environment variable. For more details, see https://huggingface.co/docs/huggingface_hub/how-to-cache#limitations.\n",
      "To support symlinks on Windows, you either need to activate Developer Mode or to run Python as an administrator. In order to see activate developer mode, see this article: https://docs.microsoft.com/en-us/windows/apps/get-started/enable-your-device-for-development\n",
      "  warnings.warn(message)\n"
     ]
    },
    {
     "data": {
      "application/vnd.jupyter.widget-view+json": {
       "model_id": "20d6ed96338042d08fd3aebf858081e8",
       "version_major": 2,
       "version_minor": 0
      },
      "text/plain": [
       "model.safetensors:   0%|          | 0.00/268M [00:00<?, ?B/s]"
      ]
     },
     "metadata": {},
     "output_type": "display_data"
    },
    {
     "data": {
      "application/vnd.jupyter.widget-view+json": {
       "model_id": "7ce190efef00499989d1458f69188726",
       "version_major": 2,
       "version_minor": 0
      },
      "text/plain": [
       "tokenizer_config.json:   0%|          | 0.00/48.0 [00:00<?, ?B/s]"
      ]
     },
     "metadata": {},
     "output_type": "display_data"
    },
    {
     "data": {
      "application/vnd.jupyter.widget-view+json": {
       "model_id": "3a2e0aec448544fe805d54afc134dfaf",
       "version_major": 2,
       "version_minor": 0
      },
      "text/plain": [
       "vocab.txt:   0%|          | 0.00/232k [00:00<?, ?B/s]"
      ]
     },
     "metadata": {},
     "output_type": "display_data"
    },
    {
     "data": {
      "text/plain": [
       "[{'label': 'NEGATIVE', 'score': 0.9997110962867737}]"
      ]
     },
     "execution_count": 2,
     "metadata": {},
     "output_type": "execute_result"
    }
   ],
   "source": [
    "### code\n",
    "#### Sentiment Analysis\n",
    "\n",
    "#defining classifier\n",
    "classifier = pipeline(task=\"sentiment-analysis\", model = \"distilbert-base-uncased-finetuned-sst-2-english\")\n",
    "classifier(\"Hate this.\")\n"
   ]
  },
  {
   "cell_type": "code",
   "execution_count": 4,
   "id": "625165fa-4e9d-4eda-b82e-801cecbe4ce1",
   "metadata": {},
   "outputs": [
    {
     "data": {
      "text/plain": [
       "[{'label': 'POSITIVE', 'score': 0.9998785257339478},\n",
       " {'label': 'POSITIVE', 'score': 0.9680055379867554},\n",
       " {'label': 'NEGATIVE', 'score': 0.9995074272155762},\n",
       " {'label': 'POSITIVE', 'score': 0.9997714161872864}]"
      ]
     },
     "execution_count": 4,
     "metadata": {},
     "output_type": "execute_result"
    }
   ],
   "source": [
    "# also can passs in a list to classifier\n",
    "text_list = [\n",
    "    \"This is great\",\\\n",
    "    \"Thanks for nothing\",\\\n",
    "    \"You've got too work on your face\",\\\n",
    "    \"You are beautiful, never change!\"]\n",
    "\n",
    "classifier(text_list)"
   ]
  },
  {
   "cell_type": "code",
   "execution_count": 6,
   "id": "04e0a120-d592-40ad-9e56-5bb9c82b135a",
   "metadata": {},
   "outputs": [
    {
     "data": {
      "application/vnd.jupyter.widget-view+json": {
       "model_id": "bf5726ad8f5e4d748ef1732b2050d1e6",
       "version_major": 2,
       "version_minor": 0
      },
      "text/plain": [
       "config.json:   0%|          | 0.00/1.92k [00:00<?, ?B/s]"
      ]
     },
     "metadata": {},
     "output_type": "display_data"
    },
    {
     "name": "stderr",
     "output_type": "stream",
     "text": [
      "C:\\Users\\ricer\\.conda\\envs\\LLM\\Lib\\site-packages\\huggingface_hub\\file_download.py:157: UserWarning: `huggingface_hub` cache-system uses symlinks by default to efficiently store duplicated files but your machine does not support them in C:\\Users\\ricer\\.cache\\huggingface\\hub\\models--SamLowe--roberta-base-go_emotions. Caching files will still work but in a degraded version that might require more space on your disk. This warning can be disabled by setting the `HF_HUB_DISABLE_SYMLINKS_WARNING` environment variable. For more details, see https://huggingface.co/docs/huggingface_hub/how-to-cache#limitations.\n",
      "To support symlinks on Windows, you either need to activate Developer Mode or to run Python as an administrator. In order to see activate developer mode, see this article: https://docs.microsoft.com/en-us/windows/apps/get-started/enable-your-device-for-development\n",
      "  warnings.warn(message)\n"
     ]
    },
    {
     "data": {
      "application/vnd.jupyter.widget-view+json": {
       "model_id": "65990abb82d346d0ae15093ffe2e66e1",
       "version_major": 2,
       "version_minor": 0
      },
      "text/plain": [
       "model.safetensors:   0%|          | 0.00/499M [00:00<?, ?B/s]"
      ]
     },
     "metadata": {},
     "output_type": "display_data"
    },
    {
     "data": {
      "application/vnd.jupyter.widget-view+json": {
       "model_id": "7fa39e68c95d43179239e240928ade55",
       "version_major": 2,
       "version_minor": 0
      },
      "text/plain": [
       "tokenizer_config.json:   0%|          | 0.00/380 [00:00<?, ?B/s]"
      ]
     },
     "metadata": {},
     "output_type": "display_data"
    },
    {
     "data": {
      "application/vnd.jupyter.widget-view+json": {
       "model_id": "6cd014ef2cff4fa4b6f11ec92a614d66",
       "version_major": 2,
       "version_minor": 0
      },
      "text/plain": [
       "vocab.json:   0%|          | 0.00/798k [00:00<?, ?B/s]"
      ]
     },
     "metadata": {},
     "output_type": "display_data"
    },
    {
     "data": {
      "application/vnd.jupyter.widget-view+json": {
       "model_id": "b044637b15ef4430ac32269386378b62",
       "version_major": 2,
       "version_minor": 0
      },
      "text/plain": [
       "merges.txt:   0%|          | 0.00/456k [00:00<?, ?B/s]"
      ]
     },
     "metadata": {},
     "output_type": "display_data"
    },
    {
     "data": {
      "application/vnd.jupyter.widget-view+json": {
       "model_id": "584cb74f6ac240a89908bb41266cba30",
       "version_major": 2,
       "version_minor": 0
      },
      "text/plain": [
       "tokenizer.json:   0%|          | 0.00/2.11M [00:00<?, ?B/s]"
      ]
     },
     "metadata": {},
     "output_type": "display_data"
    },
    {
     "data": {
      "application/vnd.jupyter.widget-view+json": {
       "model_id": "bc8849f3cb4a4718972e28327d351104",
       "version_major": 2,
       "version_minor": 0
      },
      "text/plain": [
       "special_tokens_map.json:   0%|          | 0.00/280 [00:00<?, ?B/s]"
      ]
     },
     "metadata": {},
     "output_type": "display_data"
    },
    {
     "data": {
      "text/plain": [
       "[[{'label': 'admiration', 'score': 0.9526104927062988},\n",
       "  {'label': 'approval', 'score': 0.03047208860516548},\n",
       "  {'label': 'neutral', 'score': 0.015236238949000835},\n",
       "  {'label': 'excitement', 'score': 0.00606377562507987},\n",
       "  {'label': 'gratitude', 'score': 0.005296191666275263},\n",
       "  {'label': 'joy', 'score': 0.004475215449929237},\n",
       "  {'label': 'curiosity', 'score': 0.004322336055338383},\n",
       "  {'label': 'realization', 'score': 0.004089601803570986},\n",
       "  {'label': 'optimism', 'score': 0.00407722033560276},\n",
       "  {'label': 'disapproval', 'score': 0.004076561890542507},\n",
       "  {'label': 'annoyance', 'score': 0.0035287411883473396},\n",
       "  {'label': 'surprise', 'score': 0.0029730701353400946},\n",
       "  {'label': 'disappointment', 'score': 0.002734640846028924},\n",
       "  {'label': 'love', 'score': 0.0026945816352963448},\n",
       "  {'label': 'amusement', 'score': 0.0024867451284080744},\n",
       "  {'label': 'confusion', 'score': 0.0023607409093528986},\n",
       "  {'label': 'pride', 'score': 0.002101339166983962},\n",
       "  {'label': 'sadness', 'score': 0.0017730521503835917},\n",
       "  {'label': 'anger', 'score': 0.0017196929547935724},\n",
       "  {'label': 'caring', 'score': 0.0013670094776898623},\n",
       "  {'label': 'desire', 'score': 0.001047872588969767},\n",
       "  {'label': 'disgust', 'score': 0.0009689942235127091},\n",
       "  {'label': 'fear', 'score': 0.0005249780369922519},\n",
       "  {'label': 'relief', 'score': 0.0004862120549660176},\n",
       "  {'label': 'embarrassment', 'score': 0.00034175056498497725},\n",
       "  {'label': 'grief', 'score': 0.0003389196645002812},\n",
       "  {'label': 'remorse', 'score': 0.0002780951326712966},\n",
       "  {'label': 'nervousness', 'score': 0.00020788486290257424}]]"
      ]
     },
     "execution_count": 6,
     "metadata": {},
     "output_type": "execute_result"
    }
   ],
   "source": [
    "# change a model to test\n",
    "classifier = pipeline(task=\"text-classification\", model=\"SamLowe/roberta-base-go_emotions\", top_k=None)\n",
    "\n",
    "classifier(text_list[0])"
   ]
  },
  {
   "cell_type": "code",
   "execution_count": 8,
   "id": "19aeaca8-75d3-49b1-bb9c-204cadd2baf9",
   "metadata": {},
   "outputs": [
    {
     "name": "stdout",
     "output_type": "stream",
     "text": [
      "A young adventurer named Eli set forth on a quest to uncover the secrets of the ancient ruins hidden deep within. Armed with only a map and a sense of determination, Eli braved treacherous paths and overcame daunting obstacles along the way.\n"
     ]
    }
   ],
   "source": [
    "#### Summarization\n",
    "summarizer = pipeline(task=\"summarization\", model=\"facebook/bart-large-cnn\")\n",
    "text =\"\"\"\n",
    "In the heart of the enchanted forest, a young adventurer named Eli set forth on a quest to uncover the secrets of the ancient ruins hidden deep within. Armed with only a map and a sense of determination, Eli braved treacherous paths and overcame daunting obstacles along the way.\n",
    "As twilight fell, Eli stumbled upon the entrance to the ruins, its stone archway shrouded in ivy and mystery. With each step, the air grew thick with anticipation, and the sound of his heartbeat echoed in the stillness.\n",
    "Inside, Eli found himself surrounded by the remnants of a forgotten civilization. Crumbling walls adorned with intricate carvings told tales of times long past, while shafts of moonlight illuminated the way forward.\n",
    "Guided by a flickering torch, Eli pressed on, his curiosity driving him deeper into the labyrinthine passages of the ruins. At last, he reached the heart of the ancient chamber, where a shimmering pedestal stood bathed in ethereal light.\n",
    "With trembling hands, Eli approached the pedestal and reached out to touch the glowing artifact resting atop it. In that moment, the ruins came alive with a surge of magic, and Eli knew that his adventure had only just begun.\n",
    "\"\"\"\n",
    "\n",
    "summarized_text = summarizer(text, min_length=5, max_length = 140)[0]['summary_text']\n",
    "print(summarized_text)"
   ]
  },
  {
   "cell_type": "code",
   "execution_count": null,
   "id": "0c656bfe-e9d9-47f9-83b7-b03efeb1932b",
   "metadata": {},
   "outputs": [],
   "source": []
  }
 ],
 "metadata": {
  "kernelspec": {
   "display_name": "Python 3 (ipykernel)",
   "language": "python",
   "name": "python3"
  },
  "language_info": {
   "codemirror_mode": {
    "name": "ipython",
    "version": 3
   },
   "file_extension": ".py",
   "mimetype": "text/x-python",
   "name": "python",
   "nbconvert_exporter": "python",
   "pygments_lexer": "ipython3",
   "version": "3.11.5"
  }
 },
 "nbformat": 4,
 "nbformat_minor": 5
}
