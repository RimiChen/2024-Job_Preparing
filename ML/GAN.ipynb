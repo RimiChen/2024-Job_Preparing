{
 "cells": [
  {
   "cell_type": "code",
   "execution_count": 2,
   "id": "8e46dc9e-7fc4-4c95-a703-3f8be27d58d0",
   "metadata": {},
   "outputs": [],
   "source": [
    "### import libraries\n",
    "import os\n",
    "import torch\n",
    "import torchvision\n",
    "import torch.nn as nn # neural network\n",
    "import torch.optim as optim # optimizer\n",
    "import torch.nn.functional as F\n",
    "import torchvision.datasets as datasets\n",
    "import torchvision.transforms as transforms\n",
    "from torch.utils.data import DataLoader, random_split\n",
    "from torchvision.datasets import MNIST\n",
    "\n",
    "import matplotlib.pyplot as plt\n",
    "# import pytorch_lightning as L\n",
    "import lightning as pl"
   ]
  },
  {
   "cell_type": "code",
   "execution_count": 3,
   "id": "19b431a1-4196-4ccb-815b-c8dc57bcb904",
   "metadata": {},
   "outputs": [],
   "source": [
    "### initialize\n",
    "random_seed = 42\n",
    "torch.manual_seed(random_seed)\n",
    "\n",
    "BATCH_SIZE = 128\n",
    "AVAIL_GPUS = min(1, torch.cuda.device_count())\n",
    "NUM_WORKERS = int(os.cpu_count() / 2)"
   ]
  },
  {
   "cell_type": "code",
   "execution_count": 5,
   "id": "cb45b548-9af4-4a0b-8fc8-65aa3785f012",
   "metadata": {},
   "outputs": [],
   "source": [
    "### create a data module for loading the data\n",
    "class MNISTDataModule(pl.LightningDataModule):\n",
    "    def __init__(self, data_dir=\"./data\",\n",
    "                batch_size = BATCH_SIZE, num_workers = NUM_WORKERS):\n",
    "        super().__init__()\n",
    "        self.data_dir = data_dir\n",
    "        self.batch_size = batch_size\n",
    "        self.num_workers = num_workers\n",
    "\n",
    "        self.transform = tranforms.Compose(\n",
    "            [\n",
    "                transforms.ToTensor(),\n",
    "                transforms.Normalize((0.1307, ),(0.3081, )),\n",
    "            ]\n",
    "        )\n",
    "    def prepare_data(self):\n",
    "        MNIST(self.data_dir, train = True, download = True)\n",
    "        MNIST(self.data_dir, train = False, download = True)\n",
    "\n",
    "    def setup(self, stage = None):\n",
    "        # Assign train/val datasets\n",
    "        if stage == \"fit\" or stage is None:\n",
    "            mnist_full = MNIST(self.data_dir, train = True, transform = self.transform)\n",
    "            self.mnist_train, self.mnist_val = random_split(mnist_full, [55000, 5000])\n",
    "        # Assign test dataset\n",
    "        if stage == \"test\" or stage is None:\n",
    "            self.mnist_train = MNIST(self.data_dir, train = false, transform = self.transform)\n",
    "    def train_dataloader(self):\n",
    "        return DataLoader(self.mnist_train, batch_size = self.batch_size, num_workers = self.num_workers)\n",
    "\n",
    "    def val_dataloader(self):\n",
    "        return DataLoader(self.mnist_cal, batch_size = self.batch_size, num_workers = self.num_workers)\n",
    "\n",
    "    def test_dataloader(self):\n",
    "        return DataLoader(self.mnist_test, batch_size = self.batch_size, num_workers = self.num_wokers)\n",
    "        "
   ]
  },
  {
   "cell_type": "code",
   "execution_count": null,
   "id": "c14cba63-28d9-4fcf-8963-4bfbd02e49af",
   "metadata": {},
   "outputs": [],
   "source": []
  }
 ],
 "metadata": {
  "kernelspec": {
   "display_name": "Python 3 (ipykernel)",
   "language": "python",
   "name": "python3"
  },
  "language_info": {
   "codemirror_mode": {
    "name": "ipython",
    "version": 3
   },
   "file_extension": ".py",
   "mimetype": "text/x-python",
   "name": "python",
   "nbconvert_exporter": "python",
   "pygments_lexer": "ipython3",
   "version": "3.10.12"
  }
 },
 "nbformat": 4,
 "nbformat_minor": 5
}
