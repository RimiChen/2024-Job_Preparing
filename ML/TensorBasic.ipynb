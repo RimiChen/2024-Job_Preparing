{
 "cells": [
  {
   "cell_type": "markdown",
   "id": "adbc0335-5d46-47b4-a912-bc2d72503d35",
   "metadata": {},
   "source": [
    "### import libraries"
   ]
  },
  {
   "cell_type": "code",
   "execution_count": 1,
   "id": "b9467619-e756-49af-a791-64b4f9408aa8",
   "metadata": {},
   "outputs": [],
   "source": [
    "import torch\n",
    "import numpy as np\n",
    "import torch.nn as nn\n",
    "import torch.nn.functional as F"
   ]
  },
  {
   "cell_type": "markdown",
   "id": "1a4a3cfd-5ebe-4e3f-be15-fefcb4bfd97d",
   "metadata": {},
   "source": [
    "### Testing various datatype"
   ]
  },
  {
   "cell_type": "code",
   "execution_count": 2,
   "id": "3fcb3027",
   "metadata": {},
   "outputs": [
    {
     "name": "stdout",
     "output_type": "stream",
     "text": [
      "Basic array:  [[1, 2, 3, 4, 5], [6, 7, 8, 9, 10]]\n"
     ]
    }
   ],
   "source": [
    "### testing various datatype\n",
    "my_list =[[1, 2, 3, 4, 5], [6, 7, 8, 9, 10]]\n",
    "print(\"Basic array: \", my_list)"
   ]
  },
  {
   "cell_type": "code",
   "execution_count": 3,
   "id": "a65f6ebb-9b01-440a-92f2-24ff2f0949ce",
   "metadata": {},
   "outputs": [
    {
     "name": "stdout",
     "output_type": "stream",
     "text": [
      "Numpy array: [[0.36280278 0.5070583  0.4489824  0.5056577 ]\n",
      " [0.34900884 0.92324852 0.71276532 0.48388712]\n",
      " [0.88383555 0.35019864 0.17833346 0.69949763]] float64\n"
     ]
    }
   ],
   "source": [
    "np1 = np.random.rand(3, 4)\n",
    "print(\"Numpy array:\", np1, np1.dtype)"
   ]
  },
  {
   "cell_type": "code",
   "execution_count": 4,
   "id": "e185e016-62b6-4791-94be-36f89dc99928",
   "metadata": {},
   "outputs": [
    {
     "name": "stdout",
     "output_type": "stream",
     "text": [
      "tensor:  tensor([[-0.6585, -0.5928,  1.1420, -0.3452],\n",
      "        [ 0.2774, -0.6232,  0.1826,  1.2637],\n",
      "        [-2.1388,  1.3553,  0.1820, -0.8033]])\n",
      "tensor 3d:  tensor([[[0., 0., 0., 0.],\n",
      "         [0., 0., 0., 0.],\n",
      "         [0., 0., 0., 0.]],\n",
      "\n",
      "        [[0., 0., 0., 0.],\n",
      "         [0., 0., 0., 0.],\n",
      "         [0., 0., 0., 0.]]])\n"
     ]
    }
   ],
   "source": [
    "tensor_2d = torch.randn(3,4)\n",
    "print(\"tensor: \", tensor_2d)\n",
    "\n",
    "tensor_3d = torch.zeros(2, 3, 4)\n",
    "print(\"tensor 3d: \", tensor_3d)"
   ]
  },
  {
   "cell_type": "code",
   "execution_count": 5,
   "id": "4b5444fe-084c-4058-adad-bd49bc386aa0",
   "metadata": {},
   "outputs": [
    {
     "name": "stdout",
     "output_type": "stream",
     "text": [
      "tensor from numpy array: tensor([[0.3628, 0.5071, 0.4490, 0.5057],\n",
      "        [0.3490, 0.9232, 0.7128, 0.4839],\n",
      "        [0.8838, 0.3502, 0.1783, 0.6995]], dtype=torch.float64)\n"
     ]
    }
   ],
   "source": [
    "my_tensor = torch.tensor(np1)\n",
    "print(\"tensor from numpy array:\", my_tensor)"
   ]
  },
  {
   "cell_type": "code",
   "execution_count": 6,
   "id": "ae14ee5c-6656-4eb3-a10e-6de671105dc9",
   "metadata": {},
   "outputs": [
    {
     "data": {
      "text/plain": [
       "tensor([0, 1, 2, 3, 4, 5, 6, 7, 8, 9])"
      ]
     },
     "execution_count": 6,
     "metadata": {},
     "output_type": "execute_result"
    }
   ],
   "source": [
    "### testing torch.tensor reshape and slice\n",
    "my_torch = torch.arange(10)\n",
    "my_torch"
   ]
  },
  {
   "cell_type": "code",
   "execution_count": 9,
   "id": "0c851c4f-684a-48c7-bfe0-a3908a7fa8eb",
   "metadata": {},
   "outputs": [
    {
     "data": {
      "text/plain": [
       "tensor([[0, 1, 2, 3, 4],\n",
       "        [5, 6, 7, 8, 9]])"
      ]
     },
     "execution_count": 9,
     "metadata": {},
     "output_type": "execute_result"
    }
   ],
   "source": [
    "## Reshape and View\n",
    "my_torch = my_torch.reshape(2,5)\n",
    "my_torch"
   ]
  },
  {
   "cell_type": "code",
   "execution_count": 14,
   "id": "20097567-8c71-472b-904d-2d1901db23ee",
   "metadata": {},
   "outputs": [
    {
     "data": {
      "text/plain": [
       "tensor([ 0,  1,  2,  3,  4,  5,  6,  7,  8,  9, 10, 11, 12, 13, 14])"
      ]
     },
     "execution_count": 14,
     "metadata": {},
     "output_type": "execute_result"
    }
   ],
   "source": [
    "# Reshape if we don't know the number of items using -1\n",
    "my_torch2 = torch.arange(15)\n",
    "my_torch2"
   ]
  },
  {
   "cell_type": "code",
   "execution_count": 15,
   "id": "13a04d4d-318c-4264-b0d7-1afc2b93cd5e",
   "metadata": {},
   "outputs": [
    {
     "data": {
      "text/plain": [
       "tensor([[ 0,  1,  2,  3,  4],\n",
       "        [ 5,  6,  7,  8,  9],\n",
       "        [10, 11, 12, 13, 14]])"
      ]
     },
     "execution_count": 15,
     "metadata": {},
     "output_type": "execute_result"
    }
   ],
   "source": [
    "my_torch2 = my_torch2.reshape(3,-1)\n",
    "my_torch2"
   ]
  },
  {
   "cell_type": "code",
   "execution_count": 16,
   "id": "660571d3-ab86-487a-a518-c8ade509a903",
   "metadata": {},
   "outputs": [
    {
     "data": {
      "text/plain": [
       "tensor([[ 0,  1,  2,  3,  4],\n",
       "        [ 5,  6,  7,  8,  9],\n",
       "        [10, 11, 12, 13, 14]])"
      ]
     },
     "execution_count": 16,
     "metadata": {},
     "output_type": "execute_result"
    }
   ],
   "source": [
    "my_torch2 = my_torch2.reshape(-1,5)\n",
    "my_torch2"
   ]
  },
  {
   "cell_type": "code",
   "execution_count": 17,
   "id": "0c628eee-b037-4892-8bcf-b92fdd2933e1",
   "metadata": {},
   "outputs": [
    {
     "data": {
      "text/plain": [
       "tensor([0, 1, 2, 3, 4, 5, 6, 7, 8, 9])"
      ]
     },
     "execution_count": 17,
     "metadata": {},
     "output_type": "execute_result"
    }
   ],
   "source": [
    "my_torch3 = torch.arange(10)\n",
    "my_torch3"
   ]
  },
  {
   "cell_type": "code",
   "execution_count": 18,
   "id": "4a7d3648-6627-4d12-9394-cd69c6518d82",
   "metadata": {},
   "outputs": [
    {
     "data": {
      "text/plain": [
       "tensor([[0, 1, 2, 3, 4],\n",
       "        [5, 6, 7, 8, 9]])"
      ]
     },
     "execution_count": 18,
     "metadata": {},
     "output_type": "execute_result"
    }
   ],
   "source": [
    "my_torch4 = my_torch3.view(2, 5)\n",
    "my_torch4"
   ]
  },
  {
   "cell_type": "code",
   "execution_count": 19,
   "id": "eef67b97-c42f-4960-86d5-014ff3c92b77",
   "metadata": {},
   "outputs": [
    {
     "data": {
      "text/plain": [
       "tensor([0, 1, 2, 3, 4, 5, 6, 7, 8, 9])"
      ]
     },
     "execution_count": 19,
     "metadata": {},
     "output_type": "execute_result"
    }
   ],
   "source": [
    "# with reshape and view, they will update \n",
    "my_torch5 = torch.arange(10)\n",
    "my_torch5"
   ]
  },
  {
   "cell_type": "code",
   "execution_count": 20,
   "id": "c5045f6e-8952-4102-9316-d1dee260ec47",
   "metadata": {},
   "outputs": [
    {
     "data": {
      "text/plain": [
       "tensor([  0, 616,   2,   3,   4,   5,   6,   7,   8,   9])"
      ]
     },
     "execution_count": 20,
     "metadata": {},
     "output_type": "execute_result"
    }
   ],
   "source": [
    "my_torch5[1] = 616\n",
    "my_torch5"
   ]
  },
  {
   "cell_type": "code",
   "execution_count": 21,
   "id": "3d54a8c1-e5b0-4eb4-87ca-3cdcb93c25c0",
   "metadata": {},
   "outputs": [
    {
     "data": {
      "text/plain": [
       "tensor(7)"
      ]
     },
     "execution_count": 21,
     "metadata": {},
     "output_type": "execute_result"
    }
   ],
   "source": [
    "### Slices\n",
    "my_torch7 = my_torch5\n",
    "my_torch7\n",
    "# grab a specific item\n",
    "my_torch7[7]"
   ]
  },
  {
   "cell_type": "code",
   "execution_count": 23,
   "id": "105d6b6f-10a5-4e7a-806a-2f1f55f4e109",
   "metadata": {},
   "outputs": [
    {
     "data": {
      "text/plain": [
       "tensor([[  0, 616],\n",
       "        [  2,   3],\n",
       "        [  4,   5],\n",
       "        [  6,   7],\n",
       "        [  8,   9]])"
      ]
     },
     "execution_count": 23,
     "metadata": {},
     "output_type": "execute_result"
    }
   ],
   "source": [
    "# grab slice\n",
    "my_torch8 = my_torch7.reshape(5, 2)\n",
    "my_torch8"
   ]
  },
  {
   "cell_type": "code",
   "execution_count": 24,
   "id": "e2a86761-0dae-482b-ad5d-d1c6eeac2635",
   "metadata": {},
   "outputs": [
    {
     "data": {
      "text/plain": [
       "tensor([616,   3,   5,   7,   9])"
      ]
     },
     "execution_count": 24,
     "metadata": {},
     "output_type": "execute_result"
    }
   ],
   "source": [
    "my_torch8[:,1]"
   ]
  },
  {
   "cell_type": "code",
   "execution_count": 25,
   "id": "f9bc3ec4-9dcf-41ae-a761-ec5f23ff997c",
   "metadata": {},
   "outputs": [
    {
     "data": {
      "text/plain": [
       "tensor([[616],\n",
       "        [  3],\n",
       "        [  5],\n",
       "        [  7],\n",
       "        [  9]])"
      ]
     },
     "execution_count": 25,
     "metadata": {},
     "output_type": "execute_result"
    }
   ],
   "source": [
    "# return column\n",
    "my_torch8[:,1:]"
   ]
  },
  {
   "cell_type": "code",
   "execution_count": 7,
   "id": "a39f41c2-d811-463e-821c-655b446f32d2",
   "metadata": {},
   "outputs": [],
   "source": [
    "# Create a Model Class that inherits nn.Module\n",
    "class Neural_Net(nn.Module):\n",
    "    # Input Layer (4 features of flower) \n",
    "    # --> Hidden Layer1 (number of neurons) \n",
    "    # --> H2(n) \n",
    "    # --> output(3 classes of iris flowers)\n",
    "    def __init__(self, in_features = 4, h1 = 8, h2 = 8, out_features = 3):\n",
    "        super().__init__() # instantiate our nn.Module\n",
    "        self.fc1 = nn.Linear(in_features, h1)\n",
    "        self.fc2 = nn.Linear(h1, h2)\n",
    "        self.out = nn.Linear(h2, out_features)\n",
    "\n",
    "    def forward(self, x):\n",
    "        x = F.relu(self.fc1(x))\n",
    "        x = F.relu(self.fc2(x))\n",
    "        x = self.out(x)\n",
    "\n",
    "        return x\n",
    "    "
   ]
  },
  {
   "cell_type": "code",
   "execution_count": 8,
   "id": "df744c03-56a0-4f6a-b0d4-b506856fbcbf",
   "metadata": {},
   "outputs": [],
   "source": [
    "# Pick a manual seed for randomization\n",
    "torch.manual_seed(41)\n",
    "\n",
    "# Create an instance of model\n",
    "model = Neural_Net()"
   ]
  },
  {
   "cell_type": "code",
   "execution_count": null,
   "id": "6df67b81-2481-4803-b732-bb86f731d0fe",
   "metadata": {},
   "outputs": [],
   "source": []
  }
 ],
 "metadata": {
  "kernelspec": {
   "display_name": "Python 3 (ipykernel)",
   "language": "python",
   "name": "python3"
  },
  "language_info": {
   "codemirror_mode": {
    "name": "ipython",
    "version": 3
   },
   "file_extension": ".py",
   "mimetype": "text/x-python",
   "name": "python",
   "nbconvert_exporter": "python",
   "pygments_lexer": "ipython3",
   "version": "3.11.5"
  }
 },
 "nbformat": 4,
 "nbformat_minor": 5
}
