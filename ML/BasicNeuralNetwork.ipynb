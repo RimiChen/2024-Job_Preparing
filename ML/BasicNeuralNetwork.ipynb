{
 "cells": [
  {
   "cell_type": "markdown",
   "id": "adbc0335-5d46-47b4-a912-bc2d72503d35",
   "metadata": {},
   "source": [
    "### import libraries"
   ]
  },
  {
   "cell_type": "code",
   "execution_count": 3,
   "id": "b9467619-e756-49af-a791-64b4f9408aa8",
   "metadata": {},
   "outputs": [],
   "source": [
    "import torch\n",
    "import numpy as np\n",
    "import torch.nn as nn\n",
    "import torch.nn.functional as F"
   ]
  },
  {
   "cell_type": "markdown",
   "id": "1a4a3cfd-5ebe-4e3f-be15-fefcb4bfd97d",
   "metadata": {},
   "source": [
    "### Testing various datatype"
   ]
  },
  {
   "cell_type": "code",
   "execution_count": 4,
   "id": "3fcb3027",
   "metadata": {},
   "outputs": [
    {
     "name": "stdout",
     "output_type": "stream",
     "text": [
      "Basic array:  [[1, 2, 3, 4, 5], [6, 7, 8, 9, 10]]\n"
     ]
    }
   ],
   "source": [
    "### testing various datatype\n",
    "my_list =[[1, 2, 3, 4, 5], [6, 7, 8, 9, 10]]\n",
    "print(\"Basic array: \", my_list)"
   ]
  },
  {
   "cell_type": "code",
   "execution_count": 5,
   "id": "a65f6ebb-9b01-440a-92f2-24ff2f0949ce",
   "metadata": {},
   "outputs": [
    {
     "name": "stdout",
     "output_type": "stream",
     "text": [
      "Numpy array: [[0.70138954 0.50942181 0.43584122 0.88765791]\n",
      " [0.95962291 0.88784468 0.87702193 0.824976  ]\n",
      " [0.91618115 0.02617596 0.17972667 0.22639917]] float64\n"
     ]
    }
   ],
   "source": [
    "np1 = np.random.rand(3, 4)\n",
    "print(\"Numpy array:\", np1, np1.dtype)"
   ]
  },
  {
   "cell_type": "code",
   "execution_count": 6,
   "id": "e185e016-62b6-4791-94be-36f89dc99928",
   "metadata": {},
   "outputs": [
    {
     "name": "stdout",
     "output_type": "stream",
     "text": [
      "tensor:  tensor([[ 0.1535,  0.8590,  1.1390, -0.7521],\n",
      "        [-0.6973,  0.3547,  0.9839,  0.0119],\n",
      "        [-1.1480, -0.2809, -0.5705, -0.1685]])\n",
      "tensor 3d:  tensor([[[0., 0., 0., 0.],\n",
      "         [0., 0., 0., 0.],\n",
      "         [0., 0., 0., 0.]],\n",
      "\n",
      "        [[0., 0., 0., 0.],\n",
      "         [0., 0., 0., 0.],\n",
      "         [0., 0., 0., 0.]]])\n"
     ]
    }
   ],
   "source": [
    "tensor_2d = torch.randn(3,4)\n",
    "print(\"tensor: \", tensor_2d)\n",
    "\n",
    "tensor_3d = torch.zeros(2, 3, 4)\n",
    "print(\"tensor 3d: \", tensor_3d)"
   ]
  },
  {
   "cell_type": "code",
   "execution_count": 7,
   "id": "4b5444fe-084c-4058-adad-bd49bc386aa0",
   "metadata": {},
   "outputs": [
    {
     "name": "stdout",
     "output_type": "stream",
     "text": [
      "tensor from numpy array: tensor([[0.7014, 0.5094, 0.4358, 0.8877],\n",
      "        [0.9596, 0.8878, 0.8770, 0.8250],\n",
      "        [0.9162, 0.0262, 0.1797, 0.2264]], dtype=torch.float64)\n"
     ]
    }
   ],
   "source": [
    "my_tensor = torch.tensor(np1)\n",
    "print(\"tensor from numpy array:\", my_tensor)"
   ]
  },
  {
   "cell_type": "code",
   "execution_count": 8,
   "id": "a39f41c2-d811-463e-821c-655b446f32d2",
   "metadata": {},
   "outputs": [],
   "source": [
    "# Create a Model Class that inherits nn.Module\n",
    "class Neural_Net(nn.Module):\n",
    "    # Input Layer (4 features of flower) \n",
    "    # --> Hidden Layer1 (number of neurons) \n",
    "    # --> H2(n) \n",
    "    # --> output(3 classes of iris flowers)\n",
    "    def __init__(self, in_features = 4, h1 = 8, h2 = 8, out_features = 3):\n",
    "        super().__init__() # instantiate our nn.Module\n",
    "        self.fc1 = nn.Linear(in_features, h1)\n",
    "        self.fc2 = nn.Linear(h1, h2)\n",
    "        self.out = nn.Linear(h2, out_features)\n",
    "\n",
    "    def forward(self, x):\n",
    "        x = F.relu(self.fc1(x))\n",
    "        x = F.relu(self.fc2(x))\n",
    "        x = self.out(x)\n",
    "\n",
    "        return x\n",
    "    "
   ]
  },
  {
   "cell_type": "code",
   "execution_count": 9,
   "id": "df744c03-56a0-4f6a-b0d4-b506856fbcbf",
   "metadata": {},
   "outputs": [],
   "source": [
    "# Pick a manual seed for randomization\n",
    "torch.manual_seed(41)\n",
    "\n",
    "# Create an instance of model\n",
    "model = Neural_Net()"
   ]
  },
  {
   "cell_type": "code",
   "execution_count": null,
   "id": "6df67b81-2481-4803-b732-bb86f731d0fe",
   "metadata": {},
   "outputs": [],
   "source": []
  }
 ],
 "metadata": {
  "kernelspec": {
   "display_name": "Python 3 (ipykernel)",
   "language": "python",
   "name": "python3"
  },
  "language_info": {
   "codemirror_mode": {
    "name": "ipython",
    "version": 3
   },
   "file_extension": ".py",
   "mimetype": "text/x-python",
   "name": "python",
   "nbconvert_exporter": "python",
   "pygments_lexer": "ipython3",
   "version": "3.11.5"
  }
 },
 "nbformat": 4,
 "nbformat_minor": 5
}
